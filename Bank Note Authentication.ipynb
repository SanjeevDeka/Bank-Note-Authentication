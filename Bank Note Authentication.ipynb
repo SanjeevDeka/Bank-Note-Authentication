{
 "cells": [
  {
   "cell_type": "code",
   "execution_count": 1,
   "id": "3acb680a",
   "metadata": {},
   "outputs": [
    {
     "name": "stderr",
     "output_type": "stream",
     "text": [
      "C:\\Users\\ASUS\\Anaconda3\\lib\\site-packages\\tensorflow\\python\\framework\\dtypes.py:516: FutureWarning: Passing (type, 1) or '1type' as a synonym of type is deprecated; in a future version of numpy, it will be understood as (type, (1,)) / '(1,)type'.\n",
      "  _np_qint8 = np.dtype([(\"qint8\", np.int8, 1)])\n",
      "C:\\Users\\ASUS\\Anaconda3\\lib\\site-packages\\tensorflow\\python\\framework\\dtypes.py:517: FutureWarning: Passing (type, 1) or '1type' as a synonym of type is deprecated; in a future version of numpy, it will be understood as (type, (1,)) / '(1,)type'.\n",
      "  _np_quint8 = np.dtype([(\"quint8\", np.uint8, 1)])\n",
      "C:\\Users\\ASUS\\Anaconda3\\lib\\site-packages\\tensorflow\\python\\framework\\dtypes.py:518: FutureWarning: Passing (type, 1) or '1type' as a synonym of type is deprecated; in a future version of numpy, it will be understood as (type, (1,)) / '(1,)type'.\n",
      "  _np_qint16 = np.dtype([(\"qint16\", np.int16, 1)])\n",
      "C:\\Users\\ASUS\\Anaconda3\\lib\\site-packages\\tensorflow\\python\\framework\\dtypes.py:519: FutureWarning: Passing (type, 1) or '1type' as a synonym of type is deprecated; in a future version of numpy, it will be understood as (type, (1,)) / '(1,)type'.\n",
      "  _np_quint16 = np.dtype([(\"quint16\", np.uint16, 1)])\n",
      "C:\\Users\\ASUS\\Anaconda3\\lib\\site-packages\\tensorflow\\python\\framework\\dtypes.py:520: FutureWarning: Passing (type, 1) or '1type' as a synonym of type is deprecated; in a future version of numpy, it will be understood as (type, (1,)) / '(1,)type'.\n",
      "  _np_qint32 = np.dtype([(\"qint32\", np.int32, 1)])\n",
      "C:\\Users\\ASUS\\Anaconda3\\lib\\site-packages\\tensorflow\\python\\framework\\dtypes.py:525: FutureWarning: Passing (type, 1) or '1type' as a synonym of type is deprecated; in a future version of numpy, it will be understood as (type, (1,)) / '(1,)type'.\n",
      "  np_resource = np.dtype([(\"resource\", np.ubyte, 1)])\n",
      "C:\\Users\\ASUS\\Anaconda3\\lib\\site-packages\\tensorboard\\compat\\tensorflow_stub\\dtypes.py:541: FutureWarning: Passing (type, 1) or '1type' as a synonym of type is deprecated; in a future version of numpy, it will be understood as (type, (1,)) / '(1,)type'.\n",
      "  _np_qint8 = np.dtype([(\"qint8\", np.int8, 1)])\n",
      "C:\\Users\\ASUS\\Anaconda3\\lib\\site-packages\\tensorboard\\compat\\tensorflow_stub\\dtypes.py:542: FutureWarning: Passing (type, 1) or '1type' as a synonym of type is deprecated; in a future version of numpy, it will be understood as (type, (1,)) / '(1,)type'.\n",
      "  _np_quint8 = np.dtype([(\"quint8\", np.uint8, 1)])\n",
      "C:\\Users\\ASUS\\Anaconda3\\lib\\site-packages\\tensorboard\\compat\\tensorflow_stub\\dtypes.py:543: FutureWarning: Passing (type, 1) or '1type' as a synonym of type is deprecated; in a future version of numpy, it will be understood as (type, (1,)) / '(1,)type'.\n",
      "  _np_qint16 = np.dtype([(\"qint16\", np.int16, 1)])\n",
      "C:\\Users\\ASUS\\Anaconda3\\lib\\site-packages\\tensorboard\\compat\\tensorflow_stub\\dtypes.py:544: FutureWarning: Passing (type, 1) or '1type' as a synonym of type is deprecated; in a future version of numpy, it will be understood as (type, (1,)) / '(1,)type'.\n",
      "  _np_quint16 = np.dtype([(\"quint16\", np.uint16, 1)])\n",
      "C:\\Users\\ASUS\\Anaconda3\\lib\\site-packages\\tensorboard\\compat\\tensorflow_stub\\dtypes.py:545: FutureWarning: Passing (type, 1) or '1type' as a synonym of type is deprecated; in a future version of numpy, it will be understood as (type, (1,)) / '(1,)type'.\n",
      "  _np_qint32 = np.dtype([(\"qint32\", np.int32, 1)])\n",
      "C:\\Users\\ASUS\\Anaconda3\\lib\\site-packages\\tensorboard\\compat\\tensorflow_stub\\dtypes.py:550: FutureWarning: Passing (type, 1) or '1type' as a synonym of type is deprecated; in a future version of numpy, it will be understood as (type, (1,)) / '(1,)type'.\n",
      "  np_resource = np.dtype([(\"resource\", np.ubyte, 1)])\n"
     ]
    }
   ],
   "source": [
    "#Import libraries\n",
    "import pandas as pd\n",
    "import matplotlib.pyplot as plt\n",
    "import seaborn as sns\n",
    "\n",
    "from sklearn.model_selection import train_test_split\n",
    "from sklearn.metrics import f1_score\n",
    "from sklearn.preprocessing import LabelEncoder, StandardScaler\n",
    "\n",
    "from tensorflow import keras\n",
    "from tensorflow.keras.models import Sequential\n",
    "from tensorflow.keras.layers import Dense\n",
    "\n",
    "import warnings\n",
    "warnings.filterwarnings('always')\n",
    "warnings.filterwarnings('ignore')"
   ]
  },
  {
   "cell_type": "code",
   "execution_count": 2,
   "id": "a10d152c",
   "metadata": {},
   "outputs": [
    {
     "data": {
      "text/html": [
       "<div>\n",
       "<style scoped>\n",
       "    .dataframe tbody tr th:only-of-type {\n",
       "        vertical-align: middle;\n",
       "    }\n",
       "\n",
       "    .dataframe tbody tr th {\n",
       "        vertical-align: top;\n",
       "    }\n",
       "\n",
       "    .dataframe thead th {\n",
       "        text-align: right;\n",
       "    }\n",
       "</style>\n",
       "<table border=\"1\" class=\"dataframe\">\n",
       "  <thead>\n",
       "    <tr style=\"text-align: right;\">\n",
       "      <th></th>\n",
       "      <th>variance</th>\n",
       "      <th>skewness</th>\n",
       "      <th>curtosis</th>\n",
       "      <th>entropy</th>\n",
       "      <th>class</th>\n",
       "    </tr>\n",
       "  </thead>\n",
       "  <tbody>\n",
       "    <tr>\n",
       "      <th>0</th>\n",
       "      <td>3.62160</td>\n",
       "      <td>8.6661</td>\n",
       "      <td>-2.8073</td>\n",
       "      <td>-0.44699</td>\n",
       "      <td>0</td>\n",
       "    </tr>\n",
       "    <tr>\n",
       "      <th>1</th>\n",
       "      <td>4.54590</td>\n",
       "      <td>8.1674</td>\n",
       "      <td>-2.4586</td>\n",
       "      <td>-1.46210</td>\n",
       "      <td>0</td>\n",
       "    </tr>\n",
       "    <tr>\n",
       "      <th>2</th>\n",
       "      <td>3.86600</td>\n",
       "      <td>-2.6383</td>\n",
       "      <td>1.9242</td>\n",
       "      <td>0.10645</td>\n",
       "      <td>0</td>\n",
       "    </tr>\n",
       "    <tr>\n",
       "      <th>3</th>\n",
       "      <td>3.45660</td>\n",
       "      <td>9.5228</td>\n",
       "      <td>-4.0112</td>\n",
       "      <td>-3.59440</td>\n",
       "      <td>0</td>\n",
       "    </tr>\n",
       "    <tr>\n",
       "      <th>4</th>\n",
       "      <td>0.32924</td>\n",
       "      <td>-4.4552</td>\n",
       "      <td>4.5718</td>\n",
       "      <td>-0.98880</td>\n",
       "      <td>0</td>\n",
       "    </tr>\n",
       "  </tbody>\n",
       "</table>\n",
       "</div>"
      ],
      "text/plain": [
       "   variance  skewness  curtosis  entropy  class\n",
       "0   3.62160    8.6661   -2.8073 -0.44699      0\n",
       "1   4.54590    8.1674   -2.4586 -1.46210      0\n",
       "2   3.86600   -2.6383    1.9242  0.10645      0\n",
       "3   3.45660    9.5228   -4.0112 -3.59440      0\n",
       "4   0.32924   -4.4552    4.5718 -0.98880      0"
      ]
     },
     "execution_count": 2,
     "metadata": {},
     "output_type": "execute_result"
    }
   ],
   "source": [
    "#Load the dataset\n",
    "df = pd.read_csv('BankNote_Authentication.csv')\n",
    "df.head()"
   ]
  },
  {
   "cell_type": "code",
   "execution_count": 3,
   "id": "fe0adb0d",
   "metadata": {},
   "outputs": [
    {
     "data": {
      "text/plain": [
       "(1372, 5)"
      ]
     },
     "execution_count": 3,
     "metadata": {},
     "output_type": "execute_result"
    }
   ],
   "source": [
    "#summarize shape\n",
    "df.shape"
   ]
  },
  {
   "cell_type": "code",
   "execution_count": 4,
   "id": "57140a77",
   "metadata": {},
   "outputs": [
    {
     "name": "stdout",
     "output_type": "stream",
     "text": [
      "<class 'pandas.core.frame.DataFrame'>\n",
      "RangeIndex: 1372 entries, 0 to 1371\n",
      "Data columns (total 5 columns):\n",
      " #   Column    Non-Null Count  Dtype  \n",
      "---  ------    --------------  -----  \n",
      " 0   variance  1372 non-null   float64\n",
      " 1   skewness  1372 non-null   float64\n",
      " 2   curtosis  1372 non-null   float64\n",
      " 3   entropy   1372 non-null   float64\n",
      " 4   class     1372 non-null   int64  \n",
      "dtypes: float64(4), int64(1)\n",
      "memory usage: 53.7 KB\n"
     ]
    }
   ],
   "source": [
    "#dataset info\n",
    "df.info()"
   ]
  },
  {
   "cell_type": "code",
   "execution_count": 5,
   "id": "890f46bd",
   "metadata": {},
   "outputs": [
    {
     "data": {
      "text/html": [
       "<div>\n",
       "<style scoped>\n",
       "    .dataframe tbody tr th:only-of-type {\n",
       "        vertical-align: middle;\n",
       "    }\n",
       "\n",
       "    .dataframe tbody tr th {\n",
       "        vertical-align: top;\n",
       "    }\n",
       "\n",
       "    .dataframe thead th {\n",
       "        text-align: right;\n",
       "    }\n",
       "</style>\n",
       "<table border=\"1\" class=\"dataframe\">\n",
       "  <thead>\n",
       "    <tr style=\"text-align: right;\">\n",
       "      <th></th>\n",
       "      <th>count</th>\n",
       "      <th>mean</th>\n",
       "      <th>std</th>\n",
       "      <th>min</th>\n",
       "      <th>25%</th>\n",
       "      <th>50%</th>\n",
       "      <th>75%</th>\n",
       "      <th>max</th>\n",
       "    </tr>\n",
       "  </thead>\n",
       "  <tbody>\n",
       "    <tr>\n",
       "      <th>variance</th>\n",
       "      <td>1372.0</td>\n",
       "      <td>0.433735</td>\n",
       "      <td>2.842763</td>\n",
       "      <td>-7.0421</td>\n",
       "      <td>-1.773000</td>\n",
       "      <td>0.49618</td>\n",
       "      <td>2.821475</td>\n",
       "      <td>6.8248</td>\n",
       "    </tr>\n",
       "    <tr>\n",
       "      <th>skewness</th>\n",
       "      <td>1372.0</td>\n",
       "      <td>1.922353</td>\n",
       "      <td>5.869047</td>\n",
       "      <td>-13.7731</td>\n",
       "      <td>-1.708200</td>\n",
       "      <td>2.31965</td>\n",
       "      <td>6.814625</td>\n",
       "      <td>12.9516</td>\n",
       "    </tr>\n",
       "    <tr>\n",
       "      <th>curtosis</th>\n",
       "      <td>1372.0</td>\n",
       "      <td>1.397627</td>\n",
       "      <td>4.310030</td>\n",
       "      <td>-5.2861</td>\n",
       "      <td>-1.574975</td>\n",
       "      <td>0.61663</td>\n",
       "      <td>3.179250</td>\n",
       "      <td>17.9274</td>\n",
       "    </tr>\n",
       "    <tr>\n",
       "      <th>entropy</th>\n",
       "      <td>1372.0</td>\n",
       "      <td>-1.191657</td>\n",
       "      <td>2.101013</td>\n",
       "      <td>-8.5482</td>\n",
       "      <td>-2.413450</td>\n",
       "      <td>-0.58665</td>\n",
       "      <td>0.394810</td>\n",
       "      <td>2.4495</td>\n",
       "    </tr>\n",
       "    <tr>\n",
       "      <th>class</th>\n",
       "      <td>1372.0</td>\n",
       "      <td>0.444606</td>\n",
       "      <td>0.497103</td>\n",
       "      <td>0.0000</td>\n",
       "      <td>0.000000</td>\n",
       "      <td>0.00000</td>\n",
       "      <td>1.000000</td>\n",
       "      <td>1.0000</td>\n",
       "    </tr>\n",
       "  </tbody>\n",
       "</table>\n",
       "</div>"
      ],
      "text/plain": [
       "           count      mean       std      min       25%      50%       75%  \\\n",
       "variance  1372.0  0.433735  2.842763  -7.0421 -1.773000  0.49618  2.821475   \n",
       "skewness  1372.0  1.922353  5.869047 -13.7731 -1.708200  2.31965  6.814625   \n",
       "curtosis  1372.0  1.397627  4.310030  -5.2861 -1.574975  0.61663  3.179250   \n",
       "entropy   1372.0 -1.191657  2.101013  -8.5482 -2.413450 -0.58665  0.394810   \n",
       "class     1372.0  0.444606  0.497103   0.0000  0.000000  0.00000  1.000000   \n",
       "\n",
       "              max  \n",
       "variance   6.8248  \n",
       "skewness  12.9516  \n",
       "curtosis  17.9274  \n",
       "entropy    2.4495  \n",
       "class      1.0000  "
      ]
     },
     "execution_count": 5,
     "metadata": {},
     "output_type": "execute_result"
    }
   ],
   "source": [
    "#summary statistics\n",
    "df.describe().T"
   ]
  },
  {
   "cell_type": "code",
   "execution_count": 6,
   "id": "32fed712",
   "metadata": {},
   "outputs": [
    {
     "data": {
      "image/png": "[encoded data removed]",
      "text/plain": [
       "<Figure size 720x720 with 6 Axes>"
      ]
     },
     "metadata": {
      "needs_background": "light"
     },
     "output_type": "display_data"
    }
   ],
   "source": [
    "#plot histograms\n",
    "df.hist(figsize=(10,10))\n",
    "plt.show()"
   ]
  },
  {
   "cell_type": "code",
   "execution_count": 7,
   "id": "107111b0",
   "metadata": {},
   "outputs": [],
   "source": [
    "#split into input and output columns\n",
    "X = df.drop('class', axis=1)\n",
    "y = df['class']"
   ]
  },
  {
   "cell_type": "code",
   "execution_count": 8,
   "id": "0ec3bd1e",
   "metadata": {},
   "outputs": [
    {
     "data": {
      "text/html": [
       "<div>\n",
       "<style scoped>\n",
       "    .dataframe tbody tr th:only-of-type {\n",
       "        vertical-align: middle;\n",
       "    }\n",
       "\n",
       "    .dataframe tbody tr th {\n",
       "        vertical-align: top;\n",
       "    }\n",
       "\n",
       "    .dataframe thead th {\n",
       "        text-align: right;\n",
       "    }\n",
       "</style>\n",
       "<table border=\"1\" class=\"dataframe\">\n",
       "  <thead>\n",
       "    <tr style=\"text-align: right;\">\n",
       "      <th></th>\n",
       "      <th>variance</th>\n",
       "      <th>skewness</th>\n",
       "      <th>curtosis</th>\n",
       "      <th>entropy</th>\n",
       "    </tr>\n",
       "  </thead>\n",
       "  <tbody>\n",
       "    <tr>\n",
       "      <th>0</th>\n",
       "      <td>1.121806</td>\n",
       "      <td>1.149455</td>\n",
       "      <td>-0.975970</td>\n",
       "      <td>0.354561</td>\n",
       "    </tr>\n",
       "    <tr>\n",
       "      <th>1</th>\n",
       "      <td>1.447066</td>\n",
       "      <td>1.064453</td>\n",
       "      <td>-0.895036</td>\n",
       "      <td>-0.128767</td>\n",
       "    </tr>\n",
       "    <tr>\n",
       "      <th>2</th>\n",
       "      <td>1.207810</td>\n",
       "      <td>-0.777352</td>\n",
       "      <td>0.122218</td>\n",
       "      <td>0.618073</td>\n",
       "    </tr>\n",
       "    <tr>\n",
       "      <th>3</th>\n",
       "      <td>1.063742</td>\n",
       "      <td>1.295478</td>\n",
       "      <td>-1.255397</td>\n",
       "      <td>-1.144029</td>\n",
       "    </tr>\n",
       "    <tr>\n",
       "      <th>4</th>\n",
       "      <td>-0.036772</td>\n",
       "      <td>-1.087038</td>\n",
       "      <td>0.736730</td>\n",
       "      <td>0.096587</td>\n",
       "    </tr>\n",
       "  </tbody>\n",
       "</table>\n",
       "</div>"
      ],
      "text/plain": [
       "   variance  skewness  curtosis   entropy\n",
       "0  1.121806  1.149455 -0.975970  0.354561\n",
       "1  1.447066  1.064453 -0.895036 -0.128767\n",
       "2  1.207810 -0.777352  0.122218  0.618073\n",
       "3  1.063742  1.295478 -1.255397 -1.144029\n",
       "4 -0.036772 -1.087038  0.736730  0.096587"
      ]
     },
     "execution_count": 8,
     "metadata": {},
     "output_type": "execute_result"
    }
   ],
   "source": [
    "#Scaling of input features\n",
    "std = StandardScaler()\n",
    "X = pd.DataFrame(std.fit_transform(X), columns=X.columns)\n",
    "X.head()"
   ]
  },
  {
   "cell_type": "code",
   "execution_count": 9,
   "id": "ee193c14",
   "metadata": {
    "scrolled": true
   },
   "outputs": [
    {
     "data": {
      "text/html": [
       "<div>\n",
       "<style scoped>\n",
       "    .dataframe tbody tr th:only-of-type {\n",
       "        vertical-align: middle;\n",
       "    }\n",
       "\n",
       "    .dataframe tbody tr th {\n",
       "        vertical-align: top;\n",
       "    }\n",
       "\n",
       "    .dataframe thead th {\n",
       "        text-align: right;\n",
       "    }\n",
       "</style>\n",
       "<table border=\"1\" class=\"dataframe\">\n",
       "  <thead>\n",
       "    <tr style=\"text-align: right;\">\n",
       "      <th></th>\n",
       "      <th>count</th>\n",
       "      <th>mean</th>\n",
       "      <th>std</th>\n",
       "      <th>min</th>\n",
       "      <th>25%</th>\n",
       "      <th>50%</th>\n",
       "      <th>75%</th>\n",
       "      <th>max</th>\n",
       "    </tr>\n",
       "  </thead>\n",
       "  <tbody>\n",
       "    <tr>\n",
       "      <th>variance</th>\n",
       "      <td>1372.0</td>\n",
       "      <td>4.633482e-16</td>\n",
       "      <td>1.000365</td>\n",
       "      <td>-2.630737</td>\n",
       "      <td>-0.776547</td>\n",
       "      <td>0.021974</td>\n",
       "      <td>0.840243</td>\n",
       "      <td>2.249008</td>\n",
       "    </tr>\n",
       "    <tr>\n",
       "      <th>skewness</th>\n",
       "      <td>1372.0</td>\n",
       "      <td>-5.385229e-17</td>\n",
       "      <td>1.000365</td>\n",
       "      <td>-2.675252</td>\n",
       "      <td>-0.618819</td>\n",
       "      <td>0.067718</td>\n",
       "      <td>0.833876</td>\n",
       "      <td>1.879908</td>\n",
       "    </tr>\n",
       "    <tr>\n",
       "      <th>curtosis</th>\n",
       "      <td>1372.0</td>\n",
       "      <td>-1.456561e-18</td>\n",
       "      <td>1.000365</td>\n",
       "      <td>-1.551303</td>\n",
       "      <td>-0.689946</td>\n",
       "      <td>-0.181271</td>\n",
       "      <td>0.413517</td>\n",
       "      <td>3.836586</td>\n",
       "    </tr>\n",
       "    <tr>\n",
       "      <th>entropy</th>\n",
       "      <td>1372.0</td>\n",
       "      <td>-3.236802e-18</td>\n",
       "      <td>1.000365</td>\n",
       "      <td>-3.502703</td>\n",
       "      <td>-0.581738</td>\n",
       "      <td>0.288064</td>\n",
       "      <td>0.755371</td>\n",
       "      <td>1.733680</td>\n",
       "    </tr>\n",
       "  </tbody>\n",
       "</table>\n",
       "</div>"
      ],
      "text/plain": [
       "           count          mean       std       min       25%       50%  \\\n",
       "variance  1372.0  4.633482e-16  1.000365 -2.630737 -0.776547  0.021974   \n",
       "skewness  1372.0 -5.385229e-17  1.000365 -2.675252 -0.618819  0.067718   \n",
       "curtosis  1372.0 -1.456561e-18  1.000365 -1.551303 -0.689946 -0.181271   \n",
       "entropy   1372.0 -3.236802e-18  1.000365 -3.502703 -0.581738  0.288064   \n",
       "\n",
       "               75%       max  \n",
       "variance  0.840243  2.249008  \n",
       "skewness  0.833876  1.879908  \n",
       "curtosis  0.413517  3.836586  \n",
       "entropy   0.755371  1.733680  "
      ]
     },
     "execution_count": 9,
     "metadata": {},
     "output_type": "execute_result"
    }
   ],
   "source": [
    "X.describe().T"
   ]
  },
  {
   "cell_type": "code",
   "execution_count": 10,
   "id": "9f940295",
   "metadata": {},
   "outputs": [],
   "source": [
    "#split the dataset into train and test sets\n",
    "X_train, X_test, y_train, y_test = train_test_split(X, y, test_size=0.30, random_state=46)"
   ]
  },
  {
   "cell_type": "code",
   "execution_count": 11,
   "id": "6a1bbc33",
   "metadata": {
    "scrolled": false
   },
   "outputs": [
    {
     "name": "stdout",
     "output_type": "stream",
     "text": [
      "WARNING:tensorflow:From C:\\Users\\ASUS\\Anaconda3\\lib\\site-packages\\tensorflow\\python\\ops\\init_ops.py:1251: calling VarianceScaling.__init__ (from tensorflow.python.ops.init_ops) with dtype is deprecated and will be removed in a future version.\n",
      "Instructions for updating:\n",
      "Call initializer instance with the dtype argument instead of passing it to the constructor\n",
      "WARNING:tensorflow:From C:\\Users\\ASUS\\Anaconda3\\lib\\site-packages\\tensorflow\\python\\ops\\nn_impl.py:180: add_dispatch_support.<locals>.wrapper (from tensorflow.python.ops.array_ops) is deprecated and will be removed in a future version.\n",
      "Instructions for updating:\n",
      "Use tf.where in 2.0, which has the same broadcast rule as np.where\n",
      "Model: \"sequential\"\n",
      "_________________________________________________________________\n",
      "Layer (type)                 Output Shape              Param #   \n",
      "=================================================================\n",
      "dense (Dense)                (None, 10)                50        \n",
      "_________________________________________________________________\n",
      "dense_1 (Dense)              (None, 1)                 11        \n",
      "=================================================================\n",
      "Total params: 61\n",
      "Trainable params: 61\n",
      "Non-trainable params: 0\n",
      "_________________________________________________________________\n"
     ]
    }
   ],
   "source": [
    "#number of input features\n",
    "n_features = X.shape[1]\n",
    "\n",
    "#define model\n",
    "model = Sequential()\n",
    "model.add(Dense(10, activation='relu', kernel_initializer='he_normal', input_shape=(n_features,)))\n",
    "model.add(Dense(1, activation='sigmoid'))\n",
    "\n",
    "#compile the model\n",
    "model.compile(optimizer='Adam', loss='binary_crossentropy', metrics=['accuracy'])\n",
    "\n",
    "#model summary\n",
    "model.summary()"
   ]
  },
  {
   "cell_type": "code",
   "execution_count": 12,
   "id": "cbf74b32",
   "metadata": {
    "scrolled": true
   },
   "outputs": [
    {
     "name": "stdout",
     "output_type": "stream",
     "text": [
      "Train on 960 samples, validate on 412 samples\n",
      "Epoch 1/50\n",
      "960/960 [==============================] - 0s 208us/sample - loss: 0.6956 - acc: 0.6844 - val_loss: 0.6025 - val_acc: 0.7354\n",
      "Epoch 2/50\n",
      "960/960 [==============================] - 0s 104us/sample - loss: 0.6141 - acc: 0.7146 - val_loss: 0.5446 - val_acc: 0.7694\n",
      "Epoch 3/50\n",
      "960/960 [==============================] - 0s 107us/sample - loss: 0.5508 - acc: 0.7500 - val_loss: 0.4978 - val_acc: 0.7718\n",
      "Epoch 4/50\n",
      "960/960 [==============================] - 0s 63us/sample - loss: 0.4987 - acc: 0.7542 - val_loss: 0.4616 - val_acc: 0.7864\n",
      "Epoch 5/50\n",
      "960/960 [==============================] - ETA: 0s - loss: 0.4649 - acc: 0.764 - 0s 83us/sample - loss: 0.4574 - acc: 0.7719 - val_loss: 0.4318 - val_acc: 0.7888\n",
      "Epoch 6/50\n",
      "960/960 [==============================] - 0s 73us/sample - loss: 0.4240 - acc: 0.7979 - val_loss: 0.4059 - val_acc: 0.8058\n",
      "Epoch 7/50\n",
      "960/960 [==============================] - 0s 94us/sample - loss: 0.3954 - acc: 0.8313 - val_loss: 0.3827 - val_acc: 0.8495\n",
      "Epoch 8/50\n",
      "960/960 [==============================] - 0s 73us/sample - loss: 0.3710 - acc: 0.8406 - val_loss: 0.3613 - val_acc: 0.8568\n",
      "Epoch 9/50\n",
      "960/960 [==============================] - 0s 52us/sample - loss: 0.3488 - acc: 0.8469 - val_loss: 0.3415 - val_acc: 0.8617\n",
      "Epoch 10/50\n",
      "960/960 [==============================] - 0s 52us/sample - loss: 0.3283 - acc: 0.8500 - val_loss: 0.3225 - val_acc: 0.8689\n",
      "Epoch 11/50\n",
      "960/960 [==============================] - 0s 52us/sample - loss: 0.3092 - acc: 0.8604 - val_loss: 0.3044 - val_acc: 0.8738\n",
      "Epoch 12/50\n",
      "960/960 [==============================] - 0s 52us/sample - loss: 0.2907 - acc: 0.8823 - val_loss: 0.2868 - val_acc: 0.8835\n",
      "Epoch 13/50\n",
      "960/960 [==============================] - 0s 52us/sample - loss: 0.2735 - acc: 0.8875 - val_loss: 0.2694 - val_acc: 0.9150\n",
      "Epoch 14/50\n",
      "960/960 [==============================] - 0s 52us/sample - loss: 0.2573 - acc: 0.9000 - val_loss: 0.2533 - val_acc: 0.9248\n",
      "Epoch 15/50\n",
      "960/960 [==============================] - 0s 52us/sample - loss: 0.2417 - acc: 0.9177 - val_loss: 0.2379 - val_acc: 0.9272\n",
      "Epoch 16/50\n",
      "960/960 [==============================] - 0s 52us/sample - loss: 0.2266 - acc: 0.9229 - val_loss: 0.2224 - val_acc: 0.9320\n",
      "Epoch 17/50\n",
      "960/960 [==============================] - 0s 52us/sample - loss: 0.2120 - acc: 0.9302 - val_loss: 0.2077 - val_acc: 0.9369\n",
      "Epoch 18/50\n",
      "960/960 [==============================] - 0s 52us/sample - loss: 0.1979 - acc: 0.9333 - val_loss: 0.1938 - val_acc: 0.9417\n",
      "Epoch 19/50\n",
      "960/960 [==============================] - 0s 52us/sample - loss: 0.1845 - acc: 0.9417 - val_loss: 0.1808 - val_acc: 0.9466\n",
      "Epoch 20/50\n",
      "960/960 [==============================] - 0s 52us/sample - loss: 0.1723 - acc: 0.9479 - val_loss: 0.1688 - val_acc: 0.9466\n",
      "Epoch 21/50\n",
      "960/960 [==============================] - 0s 52us/sample - loss: 0.1609 - acc: 0.9552 - val_loss: 0.1581 - val_acc: 0.9490\n",
      "Epoch 22/50\n",
      "960/960 [==============================] - 0s 52us/sample - loss: 0.1505 - acc: 0.9583 - val_loss: 0.1478 - val_acc: 0.9515\n",
      "Epoch 23/50\n",
      "960/960 [==============================] - 0s 52us/sample - loss: 0.1409 - acc: 0.9615 - val_loss: 0.1386 - val_acc: 0.9636\n",
      "Epoch 24/50\n",
      "960/960 [==============================] - 0s 52us/sample - loss: 0.1320 - acc: 0.9667 - val_loss: 0.1295 - val_acc: 0.9684\n",
      "Epoch 25/50\n",
      "960/960 [==============================] - 0s 52us/sample - loss: 0.1235 - acc: 0.9677 - val_loss: 0.1217 - val_acc: 0.9733\n",
      "Epoch 26/50\n",
      "960/960 [==============================] - 0s 52us/sample - loss: 0.1158 - acc: 0.9708 - val_loss: 0.1146 - val_acc: 0.9757\n",
      "Epoch 27/50\n",
      "960/960 [==============================] - 0s 52us/sample - loss: 0.1089 - acc: 0.9719 - val_loss: 0.1083 - val_acc: 0.9757\n",
      "Epoch 28/50\n",
      "960/960 [==============================] - ETA: 0s - loss: 0.0996 - acc: 0.976 - 0s 83us/sample - loss: 0.1027 - acc: 0.9719 - val_loss: 0.1023 - val_acc: 0.9757\n",
      "Epoch 29/50\n",
      "960/960 [==============================] - 0s 52us/sample - loss: 0.0971 - acc: 0.9729 - val_loss: 0.0971 - val_acc: 0.9757\n",
      "Epoch 30/50\n",
      "960/960 [==============================] - 0s 62us/sample - loss: 0.0919 - acc: 0.9771 - val_loss: 0.0925 - val_acc: 0.9757\n",
      "Epoch 31/50\n",
      "960/960 [==============================] - 0s 52us/sample - loss: 0.0874 - acc: 0.9792 - val_loss: 0.0883 - val_acc: 0.9757\n",
      "Epoch 32/50\n",
      "960/960 [==============================] - 0s 52us/sample - loss: 0.0832 - acc: 0.9792 - val_loss: 0.0844 - val_acc: 0.9757\n",
      "Epoch 33/50\n",
      "960/960 [==============================] - 0s 42us/sample - loss: 0.0794 - acc: 0.9792 - val_loss: 0.0809 - val_acc: 0.9757\n",
      "Epoch 34/50\n",
      "960/960 [==============================] - 0s 42us/sample - loss: 0.0759 - acc: 0.9792 - val_loss: 0.0776 - val_acc: 0.9782\n",
      "Epoch 35/50\n",
      "960/960 [==============================] - 0s 52us/sample - loss: 0.0727 - acc: 0.9802 - val_loss: 0.0746 - val_acc: 0.9806\n",
      "Epoch 36/50\n",
      "960/960 [==============================] - 0s 52us/sample - loss: 0.0697 - acc: 0.9844 - val_loss: 0.0718 - val_acc: 0.9806\n",
      "Epoch 37/50\n",
      "960/960 [==============================] - 0s 52us/sample - loss: 0.0671 - acc: 0.9844 - val_loss: 0.0691 - val_acc: 0.9806\n",
      "Epoch 38/50\n",
      "960/960 [==============================] - 0s 52us/sample - loss: 0.0645 - acc: 0.9844 - val_loss: 0.0667 - val_acc: 0.9806\n",
      "Epoch 39/50\n",
      "960/960 [==============================] - 0s 52us/sample - loss: 0.0622 - acc: 0.9844 - val_loss: 0.0645 - val_acc: 0.9806\n",
      "Epoch 40/50\n",
      "960/960 [==============================] - 0s 63us/sample - loss: 0.0599 - acc: 0.9844 - val_loss: 0.0624 - val_acc: 0.9806\n",
      "Epoch 41/50\n",
      "960/960 [==============================] - 0s 73us/sample - loss: 0.0578 - acc: 0.9844 - val_loss: 0.0604 - val_acc: 0.9806\n",
      "Epoch 42/50\n",
      "960/960 [==============================] - 0s 52us/sample - loss: 0.0559 - acc: 0.9844 - val_loss: 0.0586 - val_acc: 0.9806\n",
      "Epoch 43/50\n",
      "960/960 [==============================] - 0s 52us/sample - loss: 0.0541 - acc: 0.9854 - val_loss: 0.0569 - val_acc: 0.9854\n",
      "Epoch 44/50\n",
      "960/960 [==============================] - 0s 52us/sample - loss: 0.0524 - acc: 0.9875 - val_loss: 0.0552 - val_acc: 0.9854\n",
      "Epoch 45/50\n",
      "960/960 [==============================] - 0s 63us/sample - loss: 0.0507 - acc: 0.9875 - val_loss: 0.0537 - val_acc: 0.9854\n",
      "Epoch 46/50\n",
      "960/960 [==============================] - 0s 52us/sample - loss: 0.0492 - acc: 0.9875 - val_loss: 0.0524 - val_acc: 0.9854\n",
      "Epoch 47/50\n",
      "960/960 [==============================] - 0s 52us/sample - loss: 0.0478 - acc: 0.9885 - val_loss: 0.0509 - val_acc: 0.9854\n",
      "Epoch 48/50\n",
      "960/960 [==============================] - 0s 42us/sample - loss: 0.0464 - acc: 0.9885 - val_loss: 0.0495 - val_acc: 0.9854\n",
      "Epoch 49/50\n",
      "960/960 [==============================] - 0s 62us/sample - loss: 0.0451 - acc: 0.9885 - val_loss: 0.0484 - val_acc: 0.9854\n",
      "Epoch 50/50\n",
      "960/960 [==============================] - 0s 52us/sample - loss: 0.0439 - acc: 0.9896 - val_loss: 0.0472 - val_acc: 0.9903\n"
     ]
    },
    {
     "data": {
      "text/plain": [
       "<tensorflow.python.keras.callbacks.History at 0x11640788>"
      ]
     },
     "execution_count": 12,
     "metadata": {},
     "output_type": "execute_result"
    }
   ],
   "source": [
    "#fit the model\n",
    "model.fit(X_train, y_train, epochs=50, batch_size=32, validation_data=(X_test, y_test))"
   ]
  },
  {
   "cell_type": "code",
   "execution_count": 13,
   "id": "18f1736a",
   "metadata": {},
   "outputs": [
    {
     "data": {
      "image/png": "[encoded data removed]",
      "text/plain": [
       "<Figure size 1080x720 with 2 Axes>"
      ]
     },
     "metadata": {
      "needs_background": "light"
     },
     "output_type": "display_data"
    }
   ],
   "source": [
    "#Plot the accuracy and the loss during the training and testing of NN\n",
    "\n",
    "plt.figure(figsize=(15,10))\n",
    "\n",
    "#Model accuracy\n",
    "plt.subplot(221)\n",
    "plt.plot(model.history.history['acc'])\n",
    "plt.plot(model.history.history['val_acc'])\n",
    "plt.title('Model Accuracy')\n",
    "plt.ylabel('Accuracy')\n",
    "plt.xlabel('Epoch')\n",
    "plt.legend(['Train', 'Test'])\n",
    "\n",
    "#Model loss\n",
    "plt.subplot(222)\n",
    "plt.plot(model.history.history['loss'])\n",
    "plt.plot(model.history.history['val_loss'])\n",
    "plt.title('Model Loss')\n",
    "plt.ylabel('Loss')\n",
    "plt.xlabel('Epoch')\n",
    "plt.legend(['Train', 'Test'])\n",
    "\n",
    "plt.show()"
   ]
  },
  {
   "cell_type": "code",
   "execution_count": 14,
   "id": "1755382a",
   "metadata": {},
   "outputs": [
    {
     "name": "stdout",
     "output_type": "stream",
     "text": [
      "F1 score: 0.9895287958115184\n"
     ]
    }
   ],
   "source": [
    "#predict test set\n",
    "y_pred = model.predict_classes(X_test)\n",
    "\n",
    "#evaluate predictions\n",
    "score = f1_score(y_test, y_pred)\n",
    "print('F1 score:', score)"
   ]
  },
  {
   "cell_type": "code",
   "execution_count": 15,
   "id": "65b19bae",
   "metadata": {},
   "outputs": [],
   "source": [
    "from sklearn.metrics import accuracy_score"
   ]
  },
  {
   "cell_type": "code",
   "execution_count": 46,
   "id": "e5f7376b",
   "metadata": {},
   "outputs": [
    {
     "name": "stdout",
     "output_type": "stream",
     "text": [
      "Accuracy: 0.9902912621359223\n"
     ]
    }
   ],
   "source": [
    "print('Accuracy:', accuracy_score(y_test, y_pred))"
   ]
  },
  {
   "cell_type": "code",
   "execution_count": 47,
   "id": "22c5cdcf",
   "metadata": {},
   "outputs": [
    {
     "name": "stdout",
     "output_type": "stream",
     "text": [
      "First layer weights:\n",
      " [[-1.3706262   1.4476063   0.25271323 -1.1387359  -0.7349581   1.5193254\n",
      "  -1.126378   -1.9485296   1.3475441  -0.06308684]\n",
      " [-0.5722223  -0.65950054  0.6096384  -1.048388   -0.73161393  1.1307217\n",
      "  -1.4979749  -1.1856549  -0.52967536  1.8283366 ]\n",
      " [-1.3921794   0.52446866  0.44071794 -1.8586632  -0.80698323  1.2622175\n",
      "  -0.36691308  0.64747185 -0.26380765  1.2084091 ]\n",
      " [-0.88719165 -0.87527806  0.27265665  0.56715673  0.01852613  0.1783846\n",
      "  -0.4744514  -0.02313008 -1.1457193  -0.67862797]]\n",
      "First layer biases:\n",
      " [ 0.04697642  0.65690607 -0.3040594   0.36812392  0.24776587  0.89643127\n",
      "  0.3471015  -0.07937246 -0.29635066  0.39331102]\n",
      "-------------------------------------------------------------------------\n",
      "Second layer weights:\n",
      " [[ 0.13348322]\n",
      " [-1.0306451 ]\n",
      " [ 0.03711682]\n",
      " [ 0.9791785 ]\n",
      " [ 0.82784194]\n",
      " [-1.3336751 ]\n",
      " [ 0.6688549 ]\n",
      " [ 0.429432  ]\n",
      " [ 0.29093134]\n",
      " [-0.44755286]]\n",
      "Second layer biases:\n",
      " [-0.44964656]\n"
     ]
    }
   ],
   "source": [
    "print('First layer weights:\\n', model.layers[0].get_weights()[0])\n",
    "print('First layer biases:\\n', model.layers[0].get_weights()[1])\n",
    "print('-------------------------------------------------------------------------')\n",
    "print('Second layer weights:\\n', model.layers[1].get_weights()[0])\n",
    "print('Second layer biases:\\n', model.layers[1].get_weights()[1])"
   ]
  },
  {
   "cell_type": "code",
   "execution_count": null,
   "id": "6b48a5a8",
   "metadata": {},
   "outputs": [],
   "source": []
  },
  {
   "cell_type": "code",
   "execution_count": null,
   "id": "ddeebf29",
   "metadata": {},
   "outputs": [],
   "source": []
  },
  {
   "cell_type": "code",
   "execution_count": null,
   "id": "5d8ee544",
   "metadata": {},
   "outputs": [],
   "source": []
  },
  {
   "cell_type": "code",
   "execution_count": null,
   "id": "9de24996",
   "metadata": {},
   "outputs": [],
   "source": []
  },
  {
   "cell_type": "code",
   "execution_count": null,
   "id": "7a05f573",
   "metadata": {},
   "outputs": [],
   "source": []
  },
  {
   "cell_type": "code",
   "execution_count": null,
   "id": "55d1615f",
   "metadata": {},
   "outputs": [],
   "source": []
  },
  {
   "cell_type": "code",
   "execution_count": null,
   "id": "8920aeee",
   "metadata": {},
   "outputs": [],
   "source": []
  }
 ],
 "metadata": {
  "kernelspec": {
   "display_name": "Python 3",
   "language": "python",
   "name": "python3"
  },
  "language_info": {
   "codemirror_mode": {
    "name": "ipython",
    "version": 3
   },
   "file_extension": ".py",
   "mimetype": "text/x-python",
   "name": "python",
   "nbconvert_exporter": "python",
   "pygments_lexer": "ipython3",
   "version": "3.7.10"
  }
 },
 "nbformat": 4,
 "nbformat_minor": 5
}
